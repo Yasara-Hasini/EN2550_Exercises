{
 "cells": [
  {
   "cell_type": "code",
   "execution_count": 1,
   "metadata": {},
   "outputs": [
    {
     "name": "stdout",
     "output_type": "stream",
     "text": [
      "1 : 1\n",
      "2 : 4\n",
      "3 : 9\n",
      "4 : 16\n",
      "5 : 25\n"
     ]
    }
   ],
   "source": [
    "#Question 1\n",
    "for i in range(1,6):\n",
    "  print(i,\":\",i**2)"
   ]
  },
  {
   "cell_type": "code",
   "execution_count": 2,
   "metadata": {},
   "outputs": [
    {
     "name": "stdout",
     "output_type": "stream",
     "text": [
      "1 : 1\n",
      "4 : 16\n"
     ]
    }
   ],
   "source": [
    "#Question 2\n",
    "import sympy\n",
    "for i in range(1,6):\n",
    "  if not sympy.isprime(i):\n",
    "    print(i,\":\",i**2) "
   ]
  },
  {
   "cell_type": "code",
   "execution_count": 3,
   "metadata": {},
   "outputs": [
    {
     "name": "stdout",
     "output_type": "stream",
     "text": [
      "1 : 1\n",
      "2 : 4\n",
      "3 : 9\n",
      "4 : 16\n",
      "5 : 25\n"
     ]
    }
   ],
   "source": [
    "#Question 3\n",
    "List =[i**2 for i in range(1,6)]\n",
    "for i in range(len(List)):\n",
    "  print(i+1,\":\",List[i])"
   ]
  },
  {
   "cell_type": "code",
   "execution_count": 4,
   "metadata": {},
   "outputs": [
    {
     "name": "stdout",
     "output_type": "stream",
     "text": [
      "1 : 1\n",
      "2 : 16\n"
     ]
    }
   ],
   "source": [
    "#Question 4\n",
    "List =[i**2 for i in range(1,6) if not sympy.isprime(i)]\n",
    "for i in range(len(List)):\n",
    "  print(i+1,\":\",List[i])"
   ]
  },
  {
   "cell_type": "code",
   "execution_count": 5,
   "metadata": {},
   "outputs": [
    {
     "name": "stdout",
     "output_type": "stream",
     "text": [
      "[[ 9 12 15  9]\n",
      " [25 32 39 19]\n",
      " [41 52 63 29]]\n"
     ]
    }
   ],
   "source": [
    "#Question 5 (a)\n",
    "import numpy as np\n",
    "m1 = np.array([[1,2],[3,4],[5,6]])\n",
    "m2 = np.array([[7,8,9,1],[1,2,3,4]])\n",
    "mul = np.dot(m1,m2)\n",
    "print(mul)"
   ]
  },
  {
   "cell_type": "code",
   "execution_count": 6,
   "metadata": {},
   "outputs": [
    {
     "name": "stdout",
     "output_type": "stream",
     "text": [
      "[[ 3  4]\n",
      " [15 16]\n",
      " [15  6]]\n"
     ]
    }
   ],
   "source": [
    "#Question 5 (b)\n",
    "import numpy as np\n",
    "m1 = np.array([[1,2],[3,4],[5,6]])\n",
    "m2 = np.array([[3,2],[5,4],[3,1]])\n",
    "mul = np.multiply(m1,m2)\n",
    "print(mul)"
   ]
  },
  {
   "cell_type": "code",
   "execution_count": 7,
   "metadata": {},
   "outputs": [
    {
     "name": "stdout",
     "output_type": "stream",
     "text": [
      "[[ 1  9 10  8  3  8  9]\n",
      " [ 3  9  7  1  4  8  3]\n",
      " [ 8  8  6  5  1 10  1]\n",
      " [ 0  8  7  2  5  1  1]\n",
      " [ 6  4 10  8  5  8  6]]\n",
      "[[3 9]\n",
      " [8 8]\n",
      " [0 8]]\n",
      "3\n"
     ]
    }
   ],
   "source": [
    "#Question 6\n",
    "nums= np.random.randint(0,11, size=(5,7))\n",
    "print(nums)\n",
    "print(nums[1:4,0:2])\n",
    "print(len(nums[1:4,0:2]))"
   ]
  },
  {
   "cell_type": "code",
   "execution_count": 8,
   "metadata": {},
   "outputs": [
    {
     "name": "stdout",
     "output_type": "stream",
     "text": [
      "[[11 12 13]\n",
      " [14 15 16]]\n",
      "[[2 4 6]\n",
      " [5 7 9]]\n"
     ]
    }
   ],
   "source": [
    "#Question 7\n",
    "arr1 = np.array([[1,2,3],[4,5,6]])\n",
    "arr2 = np.array([10])\n",
    "print(np.add(arr1,arr2))\n",
    "\n",
    "arr3 = np.array([1,2,3])\n",
    "print(np.add(arr1,arr3))"
   ]
  },
  {
   "cell_type": "code",
   "execution_count": 9,
   "metadata": {},
   "outputs": [
    {
     "data": {
      "image/png": "[encoded data removed]",
      "text/plain": [
       "<Figure size 432x288 with 1 Axes>"
      ]
     },
     "metadata": {
      "needs_background": "light"
     },
     "output_type": "display_data"
    },
    {
     "name": "stdout",
     "output_type": "stream",
     "text": [
      "[[5.41103051]\n",
      " [0.37556006]]\n"
     ]
    }
   ],
   "source": [
    "#Question 8\n",
    "import matplotlib.pyplot as plt\n",
    "from numpy import linalg\n",
    "\n",
    "m, c = 2, -4\n",
    "N = 10\n",
    "x = np.linspace(0, N-1, N).reshape(N,1)\n",
    "\n",
    "#Part (a)\n",
    "X = np.append(np.ones([N,1]), x, axis=1)\n",
    "\n",
    "sigma = 10\n",
    "y = m*x + c + np.random.normal(0, sigma, (N,1))\n",
    "#plt.scatter(x,y)\n",
    "\n",
    "plt.plot(x,y)\n",
    "plt.show()\n",
    "\n",
    "#Part (b)\n",
    "#transpose = np.transpose(X)\n",
    "#value = np.matmul(np.matmul(np.linalg.inv(np.matmul(transpose,X)), transpose),y)\n",
    "value = linalg.inv(X.T @ X) @ X.T @ y\n",
    "print(value)"
   ]
  },
  {
   "cell_type": "code",
   "execution_count": null,
   "metadata": {},
   "outputs": [],
   "source": [
    "#Question 10\n",
    "import cv2 as cv\n",
    "im = cv.imread('gal_gaussian.png')\n",
    "assert im is not None  #check whether the image is empty \n",
    "\n",
    "blur = cv.GaussianBlur(im,(5,5),0)\n",
    "\n",
    "cv.namedWindow('Image', cv.WINDOW_AUTOSIZE)\n",
    "cv.imshow('Image', im)\n",
    "cv.waitKey(0)\n",
    "cv.imshow('Image', blur)\n",
    "cv.waitKey(0)\n",
    "cv.destroyAllWindows()"
   ]
  },
  {
   "cell_type": "code",
   "execution_count": 2,
   "metadata": {},
   "outputs": [],
   "source": [
    "#Question 11\n",
    "import cv2 as cv\n",
    "img = cv.imread('gal_sandp.png')\n",
    "\n",
    "median = cv.medianBlur(img,5)\n",
    "\n",
    "cv.namedWindow('Image', cv.WINDOW_AUTOSIZE)\n",
    "cv.imshow('Image', img)\n",
    "cv.waitKey(0)\n",
    "cv.imshow('Image', median)\n",
    "cv.waitKey(0)\n",
    "cv.destroyAllWindows()"
   ]
  },
  {
   "cell_type": "code",
   "execution_count": 4,
   "metadata": {},
   "outputs": [],
   "source": [
    "#Question 12\n",
    "import numpy as np\n",
    "im = np.zeros((40,60), dtype=np.uint8)\n",
    "\n",
    "im[0:21,30:61] = 125\n",
    "\n",
    "cv.namedWindow('Image', cv.WINDOW_AUTOSIZE)\n",
    "cv.imshow('Image', im)\n",
    "cv.waitKey(0)\n",
    "cv.destroyAllWindows()"
   ]
  },
  {
   "cell_type": "code",
   "execution_count": 5,
   "metadata": {},
   "outputs": [
    {
     "data": {
      "image/png": "[encoded data removed]",
      "text/plain": [
       "<Figure size 432x288 with 1 Axes>"
      ]
     },
     "metadata": {
      "needs_background": "light"
     },
     "output_type": "display_data"
    }
   ],
   "source": [
    "#Question 12\n",
    "import matplotlib.pyplot as plt \n",
    "\n",
    "im = np.zeros((40,60), dtype=np.uint8)\n",
    "\n",
    "im[0:21,30:61] = 125\n",
    "\n",
    "\n",
    "fig, ax = plt.subplots()\n",
    "ax.imshow(im, cmap='gray', vmin=0, vmax=255)\n",
    "plt.show()"
   ]
  },
  {
   "cell_type": "code",
   "execution_count": 6,
   "metadata": {},
   "outputs": [],
   "source": [
    "#Question 13\n",
    "import numpy as np\n",
    "import cv2 as cv\n",
    "\n",
    "im = np.zeros((40,60,3), dtype=np.uint8)\n",
    "\n",
    "im[20:40,0:30] = (132,24,218)\n",
    "\n",
    "cv.namedWindow('Image', cv.WINDOW_AUTOSIZE)\n",
    "cv.imshow('Image', im)\n",
    "cv.waitKey(0)\n",
    "cv.destroyAllWindows()"
   ]
  },
  {
   "cell_type": "code",
   "execution_count": null,
   "metadata": {},
   "outputs": [],
   "source": [
    "#Question 14\n",
    "from PIL import Image, ImageEnhance\n",
    "\n",
    "im = Image.open(\"tom_dark.jpg\")\n",
    "enhancer = ImageEnhance.Brightness(im)\n",
    "\n",
    "factor = 2\n",
    "im_output = enhancer.enhance(factor)\n",
    "im_output.show()"
   ]
  }
 ],
 "metadata": {
  "interpreter": {
   "hash": "2647ea34e536f865ab67ff9ddee7fd78773d956cec0cab53c79b32cd10da5d83"
  },
  "kernelspec": {
   "display_name": "Python 3.9.2 64-bit",
   "language": "python",
   "name": "python3"
  },
  "language_info": {
   "codemirror_mode": {
    "name": "ipython",
    "version": 3
   },
   "file_extension": ".py",
   "mimetype": "text/x-python",
   "name": "python",
   "nbconvert_exporter": "python",
   "pygments_lexer": "ipython3",
   "version": "3.9.2"
  },
  "orig_nbformat": 4
 },
 "nbformat": 4,
 "nbformat_minor": 2
}
